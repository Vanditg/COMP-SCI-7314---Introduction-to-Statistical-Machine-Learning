{
  "nbformat": 4,
  "nbformat_minor": 0,
  "metadata": {
    "colab": {
      "name": "a3_ISML.ipynb",
      "provenance": []
    },
    "kernelspec": {
      "name": "python3",
      "display_name": "Python 3"
    }
  },
  "cells": [
    {
      "cell_type": "code",
      "metadata": {
        "id": "6z7-umYYAOZU"
      },
      "source": [
        "#''''''''''''''''''''''''''''''''''''''''''''\n",
        "# Vandit Jyotindra Gajjar\n",
        "# ID: a1779153\n",
        "# Introduction-to-Statistical-Machine-Learning\n",
        "# Assignment: 3\n",
        "#''''''''''''''''''''''''''''''''''''''''''''"
      ],
      "execution_count": null,
      "outputs": []
    },
    {
      "cell_type": "code",
      "metadata": {
        "id": "bE1XBsM49edq",
        "outputId": "b8e9ff65-ee9d-48df-87d1-035d7b5da14e",
        "colab": {
          "base_uri": "https://localhost:8080/"
        }
      },
      "source": [
        "from google.colab import drive\n",
        "drive.mount('/content/drive')"
      ],
      "execution_count": 1,
      "outputs": [
        {
          "output_type": "stream",
          "text": [
            "Mounted at /content/drive\n"
          ],
          "name": "stdout"
        }
      ]
    },
    {
      "cell_type": "code",
      "metadata": {
        "id": "5TcQIWPQ965T"
      },
      "source": [
        "import pandas as pd\n",
        "import numpy as np\n",
        "import io\n",
        "from collections import Counter\n",
        "train = pd.read_csv(''/content/drive/My Drive/Colab Notebooks/ISML_a3/mnist_train.csv'').to_numpy()\n",
        "test = pd.read_csv(''/content/drive/My Drive/Colab Notebooks/ISML_a3/mnist_test.csv'').to_numpy()"
      ],
      "execution_count": 2,
      "outputs": []
    },
    {
      "cell_type": "code",
      "metadata": {
        "id": "ClB-mhzFZOgc"
      },
      "source": [
        "X_train = train[:,1:]\n",
        "y_train = train[:,0]\n",
        "X_test = test[:,1:]\n",
        "y_test = test[:,0]"
      ],
      "execution_count": null,
      "outputs": []
    },
    {
      "cell_type": "code",
      "metadata": {
        "id": "26SudCZKZPqf"
      },
      "source": [
        "def standardize(X):\n",
        "  standardizedArray = np.zeros(shape=np.shape(X))\n",
        "  tempArray = np.zeros(np.shape(X)[1])\n",
        "\n",
        "  for i in range(np.shape(X)[1]):\n",
        "    mean = np.mean(X[:, i])\n",
        "    std = np.std(X[:, i])\n",
        "    if std == 0:\n",
        "      std = 1\n",
        "    tempArray = np.empty(0)\n",
        "    #print('mean: ', mean, 'std: ', std)\n",
        "    \n",
        "    for element in X[:, i]:\n",
        "      tempArray = np.append(tempArray, ((element - mean) / std))\n",
        "    \n",
        "    standardizedArray[:,i] = tempArray\n",
        "\n",
        "  return standardizedArray\n",
        "\n",
        "def projectionMatrix(eigen_vectors, num):\n",
        "  projection_matrix = (eigen_vectors.T[:][:num]).T\n",
        "  return projection_matrix"
      ],
      "execution_count": null,
      "outputs": []
    },
    {
      "cell_type": "code",
      "metadata": {
        "id": "oYwjKAisZQ3B"
      },
      "source": [
        "X_std = standardize(X_train)\n",
        "Xtest_std = standardize(X_test)"
      ],
      "execution_count": null,
      "outputs": []
    },
    {
      "cell_type": "code",
      "metadata": {
        "id": "Sje2iuBgZRtm"
      },
      "source": [
        "print('Cov')\n",
        "X_covariance_matrix = np.cov(X_std.T)\n",
        "Xtest_covariance_matrix = np.cov(Xtest_std.T)\n",
        "\n",
        "print('Eigen')\n",
        "X_eigen_values, X_eigen_vectors = np.linalg.eig(X_covariance_matrix)\n",
        "Xtest_eigen_values, Xtest_eigen_vectors = np.linalg.eig(Xtest_covariance_matrix)"
      ],
      "execution_count": null,
      "outputs": []
    },
    {
      "cell_type": "code",
      "metadata": {
        "id": "Mxv18D0oZSki"
      },
      "source": [
        "\"\"\"# Calculating the explained variance on each of componentsvariance_explained = []\n",
        "variance_explained = []\n",
        "\n",
        "for i in X_eigen_values:\n",
        "     variance_explained.append((i/sum(X_eigen_values))*100)\n",
        "        \n",
        "print(variance_explained)\"\"\"\n",
        "X_projection_matrix = projectionMatrix(X_eigen_vectors, 10)\n",
        "print(np.shape(X_projection_matrix))\n",
        "X_PCA = X_std.dot(X_projection_matrix)"
      ],
      "execution_count": 7,
      "outputs": []
    },
    {
      "cell_type": "code",
      "metadata": {
        "id": "d8AEQPnAZTe7"
      },
      "source": [
        "class KNearestNeighbor(object):\n",
        "  \"\"\" a kNN classifier with L2 distance \"\"\"\n",
        "\n",
        "  def __init__(self):\n",
        "    pass\n",
        "\n",
        "  def train(self, X, y):\n",
        "    self.X_train, self.y_train = X, y\n",
        "    \n",
        "  def predict(self, X, k=1):\n",
        "    return self.predict_labels(self.compute_distances(X), k=k)\n",
        "\n",
        "  def compute_distances(self, X):\n",
        "    dists = np.zeros((X.shape[0], self.X_train.shape[0])) \n",
        "    dists = np.sqrt(np.sum(X**2, axis=1).reshape(num_test, 1) + np.sum(self.X_train**2, axis=1) - 2 * X.dot(self.X_train.T))\n",
        "    return dists\n",
        "\n",
        "  def predict_labels(self, dists, k=1):\n",
        "    y_pred = np.zeros(dists.shape[0])\n",
        "    for i in range(num_test):\n",
        "      closest_y = []\n",
        "      top_k_indx = np.argsort(dists[i])[:k]\n",
        "      closest_y = self.y_train[top_k_indx]\n",
        "      vote = Counter(closest_y)\n",
        "      count = vote.most_common()\n",
        "      y_pred[i] = count[0][0]\n",
        "    return y_pred"
      ],
      "execution_count": null,
      "outputs": []
    },
    {
      "cell_type": "code",
      "metadata": {
        "id": "ZzvccN2KZVuc"
      },
      "source": [
        "classifier = KNearestNeighbor()\n",
        "\n",
        "for i in range(10, 257):\n",
        "  X_projection_matrix = projectionMatrix(X_eigen_vectors, i)\n",
        "  X_PCA = X_std.dot(X_projection_matrix)\n",
        "  Xtest_projection_matrix = projectionMatrix(Xtest_eigen_vectors, i)\n",
        "  Xtest_PCA = Xtest_std.dot(Xtest_projection_matrix)\n",
        "  classifier.train(X_PCA, y_train)\n",
        "  distance = classifier.compute_distances(Xtest_PCA)\n",
        "  y_test_pred = classifier.predict_labels(distance, k=1)\n",
        "  num_correct = np.sum(y_test_pred == y_test)\n",
        "  num_test = distance.shape[0]\n",
        "  accuracy = float(num_correct) / num_test\n",
        "  print('For '+ str(i) + ' dimensions we', 'got %d / %d correct => accuracy: %f' % (num_correct, num_test, accuracy))\n",
        "\n"
      ],
      "execution_count": 9,
      "outputs": []
    },
    {
      "cell_type": "code",
      "metadata": {
        "id": "Zoa-Ypl2ZWor"
      },
      "source": [
        "#without PCA\n",
        "distance2 = distanceMetrics(X_train, X_test)"
      ],
      "execution_count": 10,
      "outputs": []
    },
    {
      "cell_type": "code",
      "metadata": {
        "id": "8FULBP6UZXc1"
      },
      "source": [
        "accuracy = 0\n",
        "for i in range(len(distance2)):\n",
        "  if y_train[distance2[i].index(min(distance2[i]))] == y_test[i]:\n",
        "    accuracy += 1\n",
        "  #print(y_train[distance2[i].index(min(distance2[i]))], y_test[i])\n",
        "accuracy = accuracy/len(distance2)\n",
        "print(accuracy)"
      ],
      "execution_count": 11,
      "outputs": []
    },
    {
      "cell_type": "code",
      "metadata": {
        "id": "puroj_0WZYVF",
        "outputId": "db9c04f8-11e8-44d8-905d-5b95ab2f936b",
        "colab": {
          "base_uri": "https://localhost:8080/"
        }
      },
      "source": [
        "classifier = KNearestNeighbor()\n",
        "classifier.train(X_train, y_train)\n",
        "distance = classifier.compute_distances(X_test)"
      ],
      "execution_count": 12,
      "outputs": [
        {
          "output_type": "stream",
          "text": [
            "demension 10 selected, PCA and KNN"
          ],
          "name": "stdout"
        }
      ]
    },
    {
      "cell_type": "code",
      "metadata": {
        "id": "sXlKU6B6ZZRe"
      },
      "source": [
        "y_test_pred = classifier.predict_labels(distance, k=1)\n",
        "\n",
        "num_correct = np.sum(y_test_pred == y_test)\n",
        "num_test = distance.shape[0]\n",
        "accuracy = float(num_correct) / num_test\n",
        "print('Got %d / %d correct => accuracy: %f' % (num_correct, num_test, accuracy))"
      ],
      "execution_count": null,
      "outputs": []
    },
    {
      "cell_type": "code",
      "metadata": {
        "id": "gS7Q5obzDJpi"
      },
      "source": [
        "if __name__ == \"__main__\":   \n",
        "    train_data = pd.read_csv(\"Data/usps.csv\", header = None)\n",
        "    test_data = pd.read_csv(\"Data/usps.t.csv\", header = None)\n",
        "    train_X = np.asarray(train_data.drop([0], axis = 1))\n",
        "    train_y = np.asarray(train_data[0])\n",
        "    test_X = np.asarray(test_data.drop([0], axis = 1))\n",
        "    test_y = np.asarray(test_data[0])\n",
        "\n",
        "    print('Training data has', train_X.shape[0],'samples and', train_X.shape[1],'features.',\n",
        "          '\\nTesting data has', test_X.shape[0],'samples and', test_X.shape[1],'features.')\n",
        "    \n",
        "    model = KNeighborsClassifier()\n",
        "    model.fit(train_X,train_y)\n",
        "    print(\"\\nModel Accuracy before dimension reduction: \",model.score(test_X, test_y))\n",
        "    \n",
        "    \n",
        "    reduced_dim = 64 \n",
        "    print(\"\\nReducing dimensions from \",train_X.shape[1], \" to \",reduced_dim)\n",
        "    \n",
        "    # PCA\n",
        "    X_train_transformed, mean_mat, projection = pca_fit_transform(train_X, k = reduced_dim)\n",
        "    X_test_transformed = pca_transform(test_X, mean_mat, projection)\n",
        "    model.fit(X_train_transformed,train_y)\n",
        "    print(\"\\nModel Accuracy after PCA dimension reduction: \",model.score(X_test_transformed, test_y))"
      ],
      "execution_count": null,
      "outputs": []
    },
    {
      "cell_type": "code",
      "metadata": {
        "id": "1XFOXu8tZaI3"
      },
      "source": [
        "def add_n(X):\n",
        "    temp = np.asarray(X)\n",
        "    noise = np.random.randn(X.shape[0], X.shape[1])\n",
        "    temp = np.hstack((temp, noise))\n",
        "    X = pd.DataFrame(temp)\n",
        "    return X\n",
        "\n",
        "X_train = add_n(X_train)\n",
        "X_test = add_n(X_test)\n",
        "print(X_train.shape, X_test.shape)"
      ],
      "execution_count": null,
      "outputs": []
    },
    {
      "cell_type": "code",
      "metadata": {
        "id": "IUjK6rXsD8CJ"
      },
      "source": [
        "from sklearn.model_selection  import cross_val_score\n",
        "from sklearn.neighbors import KNeighborsClassifier\n",
        "from sklearn.svm import SVC\n",
        "from sklearn.metrics import accuracy_score\n",
        "\n",
        "def score(x, y):\n",
        "    knn = KNeighborsClassifier(n_neighbors=10)\n",
        "    scores = cross_val_score(knn, x, y[0], cv=6, scoring='accuracy')\n",
        "    return scores\n",
        "\n",
        "def eval(x, y):\n",
        "    scorelist = []\n",
        "    for i in x:\n",
        "        s = score(i, y)\n",
        "        scorelist.append(1-s.mean())\n",
        "\n",
        "    plt.plot([i for i in range(len(scorelist), 0, -1)],scorelist)\n",
        "    plt.title('error curve of keeping different features')\n",
        "    plt.xlabel('features')\n",
        "    plt.ylabel('Error')\n",
        "    plt.show()   \n",
        "\n",
        "train_list = []\n",
        "for i in range(256, 10, -1):\n",
        "    # training set PCA processing\n",
        "    X_new = PCA(X_train, i, plot=False, info=False)\n",
        "    # test set PCA processing\n",
        "    Xt_new = PCA(X_test, i, plot=False, info=False)\n",
        "    train_list.append(X_new)\n",
        "\n",
        "eval(train_list, Y_train)"
      ],
      "execution_count": null,
      "outputs": []
    },
    {
      "cell_type": "code",
      "metadata": {
        "id": "CdRa4smAZb1u"
      },
      "source": [
        "def pca_fit_transform(X, k = 1):\n",
        "    mean_matrix = np.mean(X, axis = 0)\n",
        "    X = X - mean_matrix              \n",
        "    covariance_matrix = np.cov(X.T) \n",
        "    eigen_values, eigen_vectors= np.linalg.eig(covariance_matrix)  \n",
        "    eigen_pairs = [(eigen_values[i], eigen_vectors[:,i]) for i in range(eigen_values.shape[0])] \n",
        "    eigen_pairs.sort(key=lambda x: x[0], reverse=True)  \n",
        "\n",
        "    P = eigen_pairs[0][1].reshape(eigen_pairs[0][1].shape[0],1)\n",
        "    for i in range(1,k):\n",
        "        P = np.hstack((P,eigen_pairs[i][1].reshape(eigen_pairs[i][1].shape[0],1)))\n",
        "    transformed = X.dot(P)                  \n",
        "    return transformed, mean_matrix, P"
      ],
      "execution_count": 27,
      "outputs": []
    },
    {
      "cell_type": "code",
      "metadata": {
        "id": "pugUgaa5Cyv_"
      },
      "source": [
        "def pca_transform(X_test, mean_matrix, P):\n",
        "    X_test = X_test - mean_matrix               \n",
        "    transformed = X_test.dot(P)                  \n",
        "    return transformed"
      ],
      "execution_count": null,
      "outputs": []
    },
    {
      "cell_type": "code",
      "metadata": {
        "id": "AjzRPbkyZcuZ"
      },
      "source": [
        "def euclDistance(vector1,vector2):\n",
        "    return np.sqrt(np.sum(pow(vector2-vector1,2)))"
      ],
      "execution_count": 28,
      "outputs": []
    },
    {
      "cell_type": "code",
      "metadata": {
        "id": "Z4hnrt3_Zdcv"
      },
      "source": [
        "model = SVC(kernel='linear')\n",
        "scorelist = []\n",
        "i = 1\n",
        "while True:\n",
        "    if i >= X_train.shape[0]:\n",
        "        break\n",
        "    model.fit(X_train.iloc[i:i+100],Y_train.iloc[i:i+100])\n",
        "    predict = model.predict(X_test)\n",
        "    score = accuracy_score(predict, Y_test)\n",
        "    scorelist.append(score)\n",
        "    i += 100"
      ],
      "execution_count": 29,
      "outputs": []
    },
    {
      "cell_type": "code",
      "metadata": {
        "id": "bu6Ge1fGDO_L"
      },
      "source": [
        "def plotF(ErrorRateList, title='unk', xlabel='unk', ylabel='unk', ylim=0.1):\n",
        "    length = len(ErrorRateList)\n",
        "    numIterList = [x for x in range(length)]\n",
        "    plt.plot(numIterList, ErrorRateList, 'ro-')\n",
        "    plt.xlim(0, length)\n",
        "    plt.ylim(0, ylim)\n",
        "    plt.xticks([x for x in range(length) if x%10 == 0], [x for x in numIterList ], rotation=0)\n",
        "    plt.xlabel(xlabel)\n",
        "    plt.ylabel(ylabel)\n",
        "    plt.title(title)\n",
        "    plt.show()"
      ],
      "execution_count": null,
      "outputs": []
    }
  ]
}