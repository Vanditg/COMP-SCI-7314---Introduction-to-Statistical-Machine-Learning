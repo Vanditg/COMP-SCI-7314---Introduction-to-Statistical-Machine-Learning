{
 "cells": [
  {
   "cell_type": "code",
   "execution_count": null,
   "metadata": {},
   "outputs": [],
   "source": [
    "#''''''''''''''''''''''''''''''''''''''''''''\n",
    "# Vandit Jyotindra Gajjar\n",
    "# ID: a1779153\n",
    "# Introduction-to-Statistical-Machine-Learning\n",
    "# Assignment: 1\n",
    "#''''''''''''''''''''''''''''''''''''''''''''"
   ]
  },
  {
   "cell_type": "code",
   "execution_count": null,
   "metadata": {},
   "outputs": [],
   "source": [
    "# Importing useful libraries and modules \n",
    "\n",
    "import os\n",
    "import pandas as pd\n",
    "import numpy as np\n",
    "import random\n",
    "import math as m\n",
    "import matplotlib.pyplot as plt\n",
    "import cvxopt\n",
    "import cvxopt.solvers\n",
    "from cvxopt import matrix\n",
    "from cvxopt import solvers\n",
    "from numpy import array\n",
    "from sklearn.svm import SVC\n",
    "from sklearn.metrics import accuracy_score\n",
    "from sklearn.model_selection import train_test_split\n",
    "%matplotlib inline\n",
    "np.random.seed(40)"
   ]
  },
  {
   "cell_type": "code",
   "execution_count": null,
   "metadata": {},
   "outputs": [],
   "source": [
    "# Reading the files and converting to necessary labels -1 and 1\n",
    "\n",
    "X_train, Y_test = pd.read_csv('train.csv', header=None), pd.read_csv('test.csv', header=None)\n",
    "X_data_train, X_data_val = X_train.iloc[:7225,1:].to_numpy(), X_train.iloc[7225:,1:].to_numpy()\n",
    "y_label_train, y_label_val  = X_train.iloc[:7225,0].to_numpy(), X_train.iloc[7225:,0].to_numpy()\n",
    "Y, y = Y_test.iloc[:,1:].to_numpy(), Y_test.iloc[:,0].to_numpy()\n",
    "y_label_train, y_label_val, y = np.where(y_label_train == 0, -1, y_label_train), np.where(y_label_val == 0, -1, y_label_val), np.where(y == 0, -1, y)"
   ]
  },
  {
   "cell_type": "code",
   "execution_count": null,
   "metadata": {},
   "outputs": [],
   "source": [
    "# SVM Primal Form - training function\n",
    "\n",
    "def svm_train_primal(data_train, label_train, regularisation_para_C):\n",
    "    a, b = data_train.shape\n",
    "    P_w,  P_s, P_b = np.asarray(np.diag(np.ones(b))), np.zeros([b, a]),  np.zeros([1, b]) \n",
    "    \n",
    "    P_1, P_2, P_3, P_4 = np.zeros([a, a]), np.zeros([a, 1]), np.zeros([1, a]), np.zeros([1, 1]) \n",
    "    P = cvxopt.matrix(np.concatenate((np.concatenate((P_w, P_s, P_b.T), axis = 1), np.concatenate((P_s.T, P_1, P_2), axis=1), np.concatenate((P_b, P_3, P_4),axis = 1)), axis = 0))\n",
    "\n",
    "    q = cvxopt.matrix((np.concatenate((P_b, np.matrix(np.ones([a]) * regularisation_para_C/a), P_4), axis=1).T))\n",
    "    \n",
    "    g_1, g_2, g_3 = np.dot(np.diag(label_train), data_train) * (-1), np.asarray(np.diag(np.ones([a]) * (-1))),  np.matrix(label_train) * (-1)\n",
    "    g_3 = g_3.T\n",
    "\n",
    "    G = np.vstack((np.concatenate((g_1,g_2,g_3), axis = 1), np.concatenate((np.zeros([a, b + 1]), np.asarray(np.diag(np.ones([a]) * (-1)))), axis = 1)))\n",
    "    G = cvxopt.matrix(G) \n",
    "\n",
    "    h = cvxopt.matrix(np.hstack((np.ones(a) * (-1), np.zeros(a))))             \n",
    "    svm_model = np.array(cvxopt.solvers.coneqp(P,q,G,h)['x']).flatten()\n",
    "    return svm_model"
   ]
  },
  {
   "cell_type": "code",
   "execution_count": null,
   "metadata": {},
   "outputs": [],
   "source": [
    "# SVM Primal Form - testing function\n",
    "\n",
    "def svm_predict_primal(data_test, label_test, svm_model):\n",
    "    a, b = X_data_train.shape\n",
    "    accuracy = accuracy_score(label_test, np.sign(np.dot(data_test, svm_model[:b]) + svm_model[-1]))\n",
    "    return accuracy"
   ]
  },
  {
   "cell_type": "code",
   "execution_count": null,
   "metadata": {},
   "outputs": [],
   "source": [
    "regularisation_para_C = [1] + list(range(0, 101, 5))\n",
    "\n",
    "for k in regularisation_para_C:\n",
    "    svm_model = svm_train_primal(X_data_train , y_label_train , k)\n",
    "    test_accuracy_primal = svm_predict_primal(X_data_val , y_label_val, svm_model)\n",
    "    print('The training accuracy for C = ', k, ' is: ', test_accuracy_primal)"
   ]
  },
  {
   "cell_type": "code",
   "execution_count": null,
   "metadata": {},
   "outputs": [],
   "source": [
    "svm_model = svm_train_primal(X_data_train , y_label_train , 100)\n",
    "train_accuracy, val_accuracy, test_accuracy = svm_predict_primal(X_data_train , y_label_train , svm_model), svm_predict_primal(X_data_val , y_label_val , svm_model), svm_predict_primal(Y , y , svm_model)\n",
    "\n",
    "print(\"The train accuracy for our train set: \", train_accuracy)\n",
    "print(\"The val accuracy for our validation set: \", val_accuracy)\n",
    "print(\"The test accuracy for our testing set: \", test_accuracy)"
   ]
  },
  {
   "cell_type": "code",
   "execution_count": null,
   "metadata": {},
   "outputs": [],
   "source": [
    "w_primal, b_primal = svm_model[:X_data_train.shape[1]], svm_model[-1]\n",
    "primal_W_series, primal_b_series = pd.Series(w_primal), pd.Series(b_primal)\n",
    "primal_series = pd.concat([primal_W_series, primal_b_series], axis=0)"
   ]
  },
  {
   "cell_type": "code",
   "execution_count": null,
   "metadata": {},
   "outputs": [],
   "source": [
    "# SVM Dual Form - training function\n",
    "\n",
    "def svm_train_dual(data_train,  label_train,  regularisation_para_C):\n",
    "    a, b = X_data_train.shape\n",
    "    label_train = label_train.reshape(-1, 1) * 1.\n",
    "    \n",
    "    label_train_diagonal = np.asarray(np.diag(np.ones(label_train.shape[0]))*label_train) \n",
    "    mat = np.dot(label_train_diagonal, data_train)\n",
    "    mat.shape\n",
    "\n",
    "    P, q = matrix(np.dot(mat , mat.T) * 1.), matrix(-np.ones((a, 1)))\n",
    "\n",
    "    G = matrix(np.vstack((np.eye(a) * (-1), np.eye(a))))\n",
    "    h = matrix(np.hstack((np.zeros(a), np.ones(a) * regularisation_para_C/a)))\n",
    "    \n",
    "    A, b = matrix(label_train.reshape(1, -1)), matrix(np.zeros(1))\n",
    "    res = solvers.qp(P, q, G, h, A, b)\n",
    "    w_1 = (label_train * np.array(res['x'])).T @ data_train\n",
    "    w = w_1.reshape(-1,1)\n",
    "\n",
    "    svm_model_d = np.vstack((w_1.reshape(-1,1), label_train[(np.array(res['x']) > 1e-4).flatten()] - np.dot(data_train[(np.array(res['x']) > 1e-4).flatten()], w).mean()))\n",
    "    return svm_model_d"
   ]
  },
  {
   "cell_type": "code",
   "execution_count": null,
   "metadata": {},
   "outputs": [],
   "source": [
    "# SVM Dual Form - testing function\n",
    "\n",
    "def svm_predict_dual(data_test, label_test, svm_model_d):    \n",
    "    a, b = X_data_train.shape\n",
    "    accuracy = accuracy_score(label_test, np.sign(np.dot(svm_model_d[:b].T, data_test.T) + svm_model_d[-1]).reshape(label_test.shape))\n",
    "    return accuracy"
   ]
  },
  {
   "cell_type": "code",
   "execution_count": null,
   "metadata": {},
   "outputs": [],
   "source": [
    "regularisation_para_C = [1] + list(range(0, 101, 5))\n",
    "for k in regularisation_para_C:\n",
    "    svm_model_dual = svm_train_dual(X_data_train , y_label_train , k)\n",
    "    test_accuracy_dual = svm_predict_dual(X_data_val , y_label_val , svm_model_dual)\n",
    "    print('The training accuracy for C = ', k, ' is: ', test_accuracy_dual)"
   ]
  },
  {
   "cell_type": "code",
   "execution_count": null,
   "metadata": {},
   "outputs": [],
   "source": [
    "svm_model_d = svm_train_dual(X_data_train , y_label_train , 1)\n",
    "train_accuracy, val_accuracy, test_accuracy = svm_predict_dual(X_data_train , y_label_train , svm_model_d), svm_predict_dual(X_data_val , y_label_val , svm_model_d), svm_predict_dual(Y , y , svm_model_d)\n",
    "\n",
    "print(\"The train accuracy for our train set: \", train_accuracy)\n",
    "print(\"The val accuracy for our validation set: \", val_accuracy)\n",
    "print(\"The test accuracy for our testing set: \", test_accuracy)"
   ]
  },
  {
   "cell_type": "code",
   "execution_count": null,
   "metadata": {},
   "outputs": [],
   "source": [
    "W_dual, b_dual = svm_model_d[:X_data_train.shape[1]], svm_model_d[-1]\n",
    "dual_W_series, dual_b_series = pd.Series(W_dual.flatten()), pd.Series(b_dual)\n",
    "dual_series = pd.concat((dual_W_series, dual_b_series), axis=0)"
   ]
  },
  {
   "cell_type": "code",
   "execution_count": null,
   "metadata": {},
   "outputs": [],
   "source": [
    "# SVM using Existing Libraries - Scikit-learn \n",
    "\n",
    "regularisation_para_C = list(range(1, 101, 5))\n",
    "regularisation_para_C = [i / X_data_train.shape[0] for i in regularisation_para_C]\n",
    "\n",
    "\n",
    "for j in regularisation_para_C:\n",
    "    SVM_classifier = SVC(C = j, kernel = 'linear')\n",
    "    SVM_classifier.fit(X_data_train, y_label_train) \n",
    "    predicted_labels = SVM_classifier.predict(X_data_val)\n",
    "    accuracy = accuracy_score(y_label_val, predicted_labels)\n",
    "    print('The Training accuracy for C = ', j*X_data_train.shape[0], ' is: ', accuracy)"
   ]
  },
  {
   "cell_type": "code",
   "execution_count": null,
   "metadata": {},
   "outputs": [],
   "source": [
    "SVM_classifier = SVC(C = 100 / X_data_train.shape[0], kernel = 'linear')\n",
    "SVM_classifier.fit(X_data_train, y_label_train) \n",
    "predicted_labels_train = SVM_classifier.predict(X_data_train)\n",
    "train_accuracy = accuracy_score(y_label_train, predicted_labels_train)\n",
    "predicted_labels_test = SVM_classifier.predict(Y)\n",
    "test_accuracy = accuracy_score(y, predicted_labels_test)\n",
    "print('The overall training accuracy is : ',train_accuracy)\n",
    "print('The overall testing accuracy is : ',test_accuracy)"
   ]
  },
  {
   "cell_type": "code",
   "execution_count": null,
   "metadata": {},
   "outputs": [],
   "source": [
    "SVC_series = pd.concat((pd.Series(SVM_classifier.coef_.flatten()), pd.Series(SVM_classifier.intercept_)), axis=0)"
   ]
  },
  {
   "cell_type": "code",
   "execution_count": null,
   "metadata": {},
   "outputs": [],
   "source": [
    "parameter_comparison = pd.concat([dual_series.rename('SVM Dual Form'), primal_series.rename('SVM Primal Form')], axis=1)\n",
    "parameter_difference = round((parameter_comparison['SVM Primal Form'] - parameter_comparison['SVM Dual Form']), 4)\n",
    "parameter_difference_percentage = (parameter_comparison['SVM Primal Form'] - parameter_comparison['SVM Dual Form'])/parameter_comparison['SVM Dual Form']*100\n",
    "final_parameter_comparison = pd.concat([parameter_comparison, parameter_difference, parameter_difference_percentage], axis=1)\n",
    "weights_comparison = final_parameter_comparison.iloc[:200]"
   ]
  },
  {
   "cell_type": "code",
   "execution_count": null,
   "metadata": {},
   "outputs": [],
   "source": [
    "plt.figure(figsize=(14,8), dpi = 250, facecolor = 'gray', edgecolor = 'blue')\n",
    "plt.scatter(x, final_parameter_comparison['SVM Primal Form'], c = 'red', marker = 'd')\n",
    "plt.scatter(x, final_parameter_comparison['SVM Dual Form'], c='yellow', marker = '+')\n",
    "plt.title('Comparision of Weights and Bias for Primal and Dual Form')"
   ]
  }
 ],
 "metadata": {
  "kernelspec": {
   "display_name": "Python 3",
   "language": "python",
   "name": "python3"
  },
  "language_info": {
   "codemirror_mode": {
    "name": "ipython",
    "version": 3
   },
   "file_extension": ".py",
   "mimetype": "text/x-python",
   "name": "python",
   "nbconvert_exporter": "python",
   "pygments_lexer": "ipython3",
   "version": "3.6.2"
  }
 },
 "nbformat": 4,
 "nbformat_minor": 4
}
